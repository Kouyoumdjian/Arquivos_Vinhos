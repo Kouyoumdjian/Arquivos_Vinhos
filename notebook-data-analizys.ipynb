{
  "cells": [
    {
      "cell_type": "markdown",
      "metadata": {
        "id": "view-in-github",
        "colab_type": "text"
      },
      "source": [
        "<a href=\"https://colab.research.google.com/github/Kouyoumdjian/Arquivos_Vinhos/blob/main/notebook-data-analizys.ipynb\" target=\"_parent\"><img src=\"https://colab.research.google.com/assets/colab-badge.svg\" alt=\"Open In Colab\"/></a>"
      ]
    },
    {
      "cell_type": "markdown",
      "source": [
        "# Conexão banco de dados PostgreSQL"
      ],
      "metadata": {
        "id": "xk0r9rRAPxA5"
      }
    },
    {
      "cell_type": "code",
      "metadata": {
        "colab": {
          "base_uri": "https://localhost:8080/"
        },
        "id": "0660c813",
        "outputId": "faf93926-8134-41d2-d9cf-a3c1a80c7281"
      },
      "source": [
        "%pip install pyspark\n",
        "%pip install psycopg2-binary"
      ],
      "execution_count": 1,
      "outputs": [
        {
          "output_type": "stream",
          "name": "stdout",
          "text": [
            "Requirement already satisfied: pyspark in /usr/local/lib/python3.12/dist-packages (3.5.1)\n",
            "Requirement already satisfied: py4j==0.10.9.7 in /usr/local/lib/python3.12/dist-packages (from pyspark) (0.10.9.7)\n",
            "Requirement already satisfied: psycopg2-binary in /usr/local/lib/python3.12/dist-packages (2.9.10)\n"
          ]
        }
      ]
    },
    {
      "cell_type": "code",
      "metadata": {
        "colab": {
          "base_uri": "https://localhost:8080/"
        },
        "id": "c3d4107f",
        "outputId": "756e0972-93af-471e-9276-939bff36e05b"
      },
      "source": [
        "!wget https://jdbc.postgresql.org/download/postgresql-42.7.3.jar"
      ],
      "execution_count": 2,
      "outputs": [
        {
          "output_type": "stream",
          "name": "stdout",
          "text": [
            "--2025-09-30 22:03:44--  https://jdbc.postgresql.org/download/postgresql-42.7.3.jar\n",
            "Resolving jdbc.postgresql.org (jdbc.postgresql.org)... 72.32.157.228, 2001:4800:3e1:1::228\n",
            "Connecting to jdbc.postgresql.org (jdbc.postgresql.org)|72.32.157.228|:443... connected.\n",
            "HTTP request sent, awaiting response... 200 OK\n",
            "Length: 1089312 (1.0M) [application/java-archive]\n",
            "Saving to: ‘postgresql-42.7.3.jar.3’\n",
            "\n",
            "postgresql-42.7.3.j 100%[===================>]   1.04M  --.-KB/s    in 0.09s   \n",
            "\n",
            "2025-09-30 22:03:44 (10.9 MB/s) - ‘postgresql-42.7.3.jar.3’ saved [1089312/1089312]\n",
            "\n"
          ]
        }
      ]
    },
    {
      "cell_type": "code",
      "metadata": {
        "id": "33b18e88"
      },
      "source": [
        "from pyspark.sql import SparkSession\n",
        "\n",
        "spark = SparkSession.builder \\\n",
        "    .appName(\"PNAD Data Processing\") \\\n",
        "    .config(\"spark.jars\", \"/content/postgresql-42.7.3.jar\") \\\n",
        "    .getOrCreate()"
      ],
      "execution_count": 3,
      "outputs": []
    },
    {
      "cell_type": "code",
      "metadata": {
        "colab": {
          "base_uri": "https://localhost:8080/"
        },
        "id": "s62cCjIlXfc1",
        "outputId": "d3eb4ad0-09de-4a00-b4ca-23d39319b3ee"
      },
      "source": [
        "# Credenciais do PostgreSQL\n",
        "usuario_pg = \"postgres\"\n",
        "senha_pg = \"TechFiapTechFiap\"\n",
        "host_pg = \"postgres-db.c3o4yi8i6o3f.us-east-1.rds.amazonaws.com\"\n",
        "porta_pg = \"5432\"\n",
        "banco_pg = \"postgres\"\n",
        "\n",
        "jdbc_url = f\"jdbc:postgresql://{host_pg}:{porta_pg}/{banco_pg}\"\n",
        "\n",
        "jdbc_properties = {\n",
        "    \"user\": usuario_pg,\n",
        "    \"password\": senha_pg,\n",
        "    \"driver\": \"org.postgresql.Driver\"\n",
        "}\n",
        "\n",
        "print(f\"JDBC URL: {jdbc_url}\")\n",
        "print(f\"JDBC Properties: {jdbc_properties}\")"
      ],
      "execution_count": 4,
      "outputs": [
        {
          "output_type": "stream",
          "name": "stdout",
          "text": [
            "JDBC URL: jdbc:postgresql://postgres-db.c3o4yi8i6o3f.us-east-1.rds.amazonaws.com:5432/postgres\n",
            "JDBC Properties: {'user': 'postgres', 'password': 'TechFiapTechFiap', 'driver': 'org.postgresql.Driver'}\n"
          ]
        }
      ]
    },
    {
      "cell_type": "code",
      "metadata": {
        "colab": {
          "base_uri": "https://localhost:8080/"
        },
        "id": "8b195343",
        "outputId": "8b8b6e1b-98f0-4402-d050-b782dabc1b9e"
      },
      "source": [
        "query = \"SELECT * FROM QUESTIONARIO\"\n",
        "\n",
        "df_spark = spark.read.format(\"jdbc\") \\\n",
        "    .option(\"url\", jdbc_url) \\\n",
        "    .option(\"dbtable\", f\"({query}) as custom_query\") \\\n",
        "    .options(**jdbc_properties) \\\n",
        "    .load()\n",
        "\n",
        "df_spark.printSchema()"
      ],
      "execution_count": 5,
      "outputs": [
        {
          "output_type": "stream",
          "name": "stdout",
          "text": [
            "root\n",
            " |-- ano: long (nullable = true)\n",
            " |-- v1013: long (nullable = true)\n",
            " |-- v1012: long (nullable = true)\n",
            " |-- uf: long (nullable = true)\n",
            " |-- capital: double (nullable = true)\n",
            " |-- rm_ride: double (nullable = true)\n",
            " |-- uf_nome: string (nullable = true)\n",
            " |-- sigla: string (nullable = true)\n",
            " |-- regiao: string (nullable = true)\n",
            " |-- a002: long (nullable = true)\n",
            " |-- a003: long (nullable = true)\n",
            " |-- a004: long (nullable = true)\n",
            " |-- b008: double (nullable = true)\n",
            " |-- b009a: double (nullable = true)\n",
            " |-- b009c: double (nullable = true)\n",
            " |-- b009e: double (nullable = true)\n",
            " |-- a005: long (nullable = true)\n",
            " |-- a006: double (nullable = true)\n",
            " |-- b0011: long (nullable = true)\n",
            " |-- b0012: long (nullable = true)\n",
            " |-- b0013: long (nullable = true)\n",
            " |-- b0014: long (nullable = true)\n",
            " |-- b0015: long (nullable = true)\n",
            " |-- b0016: long (nullable = true)\n",
            " |-- b0017: long (nullable = true)\n",
            " |-- b0018: long (nullable = true)\n",
            " |-- b0019: long (nullable = true)\n",
            " |-- b00110: long (nullable = true)\n",
            " |-- b00111: long (nullable = true)\n",
            " |-- b00112: long (nullable = true)\n",
            " |-- b00113: double (nullable = true)\n",
            " |-- data_hora_carga: timestamp (nullable = true)\n",
            " |-- usuario_carga: string (nullable = true)\n",
            "\n"
          ]
        }
      ]
    },
    {
      "cell_type": "markdown",
      "source": [
        "# DataViz"
      ],
      "metadata": {
        "id": "pYJO6xI_cO04"
      }
    },
    {
      "cell_type": "code",
      "metadata": {
        "id": "66a2f1d0",
        "outputId": "9db3d334-5d0d-4208-8a9e-f49a6f611817",
        "colab": {
          "base_uri": "https://localhost:8080/"
        }
      },
      "source": [
        "from pyspark.sql.functions import col, when, mean, count, asc, input_file_name, lit, create_map\n",
        "from itertools import chain\n",
        "\n",
        "# 1. Selecione as colunas relevantes\n",
        "cols_keep = [\n",
        "    \"uf\",\"v2007\",\"v2009\",\"v2010\",     # Demográficas\n",
        "    \"b002\",\"c001\",                    # Comportamento/teste\n",
        "    \"d0013\",                          # Econômico\n",
        "    \"v1013\",\n",
        "    \"b0011\",\"b0012\",\"b0013\",\"b0014\" # Sintomas\n",
        "]\n",
        "# Ensure columns exist in the dataframe\n",
        "cols_keep = [c.lower() for c in cols_keep if c.lower() in df_spark.columns]\n",
        "df_clean = df_spark.select(*cols_keep)\n",
        "print(f\"🧮 Colunas selecionadas ({len(cols_keep)}): {cols_keep}\")\n",
        "\n",
        "# 2. Crie dicionários de mapeamento\n",
        "map_sim_nao = {1: \"Sim\", 2: \"Não\", 9: \"Não sabe\"}\n",
        "map_ficou   = {1: \"Sempre\", 2: \"Quase sempre\", 3: \"Às vezes\", 4: \"Raramente\", 5: \"Nunca\", 9: \"Não sabe\"}\n",
        "def dict_to_map(d): return create_map([lit(x) for x in chain(*d.items())])\n",
        "m_simnao, m_ficou = dict_to_map(map_sim_nao), dict_to_map(map_ficou)\n",
        "\n",
        "# 3. Aplique mapeamentos e crie novas colunas\n",
        "sint_map = {\"b0011\":\"FEBRE\",\"b0012\":\"TOSSE\",\"b0013\":\"DOR_GARGANTA\",\"b0014\":\"DIFICULDADE_RESPIRAR\"}\n",
        "for k,v in sint_map.items():\n",
        "    if k in df_clean.columns:\n",
        "        df_clean = df_clean.withColumn(v, m_simnao.getItem(col(k).cast(\"int\")))\n",
        "if \"c001\" in df_clean.columns:\n",
        "    df_clean = df_clean.withColumn(\"FICOU_EM_CASA\", m_ficou.getItem(col(\"c001\").cast(\"int\")))\n",
        "if \"b002\" in df_clean.columns:\n",
        "    df_clean = df_clean.withColumn(\"TESTE_COVID\", m_simnao.getItem(col(\"b002\").cast(\"int\")))\n",
        "if \"d0013\" in df_clean.columns:\n",
        "    df_clean = df_clean.withColumn(\"PERDA_RENDA\", m_simnao.getItem(col(\"d0013\").cast(\"int\")))\n",
        "\n",
        "print(\"✅ Limpeza + mapeamentos concluídos.\")\n",
        "print(\"👀 Amostra após mapeamentos (5 linhas):\")\n",
        "df_clean.limit(5).show(truncate=False)\n",
        "\n",
        "\n",
        "# 4. Identifique os meses disponíveis\n",
        "disp_rows = df_clean.select(\"v1013\").distinct().orderBy(asc(\"v1013\")).collect()\n",
        "MESES_DISPONIVEIS = [r[\"v1013\"] for r in disp_rows if r[\"v1013\"] is not None]\n",
        "print(\"🗓️ Meses detectados:\", MESES_DISPONIVEIS)\n",
        "\n",
        "# 5. Selecione até 3 meses para análise (substitua MESES_DESEJADOS conforme necessário ou deixe vazio para seleção automática)\n",
        "MESES_DESEJADOS = [] # Example: [5, 7, 10]\n",
        "\n",
        "def escolher_3_meses(desejados, disponiveis):\n",
        "    desejados = [m for m in desejados if m]\n",
        "    disp = [m for m in disponiveis if m]\n",
        "    usados = []\n",
        "    for m in desejados:\n",
        "        if m in disp and m not in usados:\n",
        "            usados.append(m)\n",
        "    def prox(target, pool): return sorted(pool, key=lambda x: abs(int(x)-int(target)))\n",
        "    for m in desejados:\n",
        "        if len(usados)>=3: break\n",
        "        if m not in usados and disp:\n",
        "            cand = [x for x in disp if x not in usados]\n",
        "            if cand: usados.append(prox(m, cand)[0])\n",
        "    for x in disp:\n",
        "        if len(usados)>=3: break\n",
        "        if x not in usados: usados.append(x)\n",
        "    return sorted(usados[:3]) # Sort for consistent output\n",
        "\n",
        "MESES_USO = escolher_3_meses(MESES_DESEJADOS, MESES_DISPONIVEIS)\n",
        "print(f\"🎯 Meses desejados: {MESES_DESEJADOS} | Meses usados: {MESES_USO}\")\n",
        "\n",
        "# 6. Filtre o DataFrame pelos meses selecionados\n",
        "df_3m = df_clean.filter(col(\"v1013\").isin(MESES_USO))\n",
        "print(\"📈 Contagem por MES (usados):\")\n",
        "df_3m.groupBy(\"v1013\").agg(count(\"*\").alias(\"qtde\")).orderBy(\"v1013\").show()\n",
        "print(\"🔢 Total:\", df_3m.count())\n",
        "\n",
        "\n",
        "# 7. Calcule a prevalência de sintomas por UF\n",
        "sym_cols = [c for c in [\"FEBRE\",\"TOSSE\",\"DOR_GARGANTA\",\"DIFICULDADE_RESPIRAR\"] if c in df_3m.columns]\n",
        "exprs = [mean(when(col(c)==\"Sim\",1).otherwise(0)).alias(f\"prop_{c}\") for c in sym_cols]\n",
        "prev_uf_3m = df_3m.groupBy(\"uf\").agg(*exprs)\n",
        "\n",
        "# 9. Exiba a prevalência de sintomas por UF\n",
        "print(\"📊 Prevalência por UF:\")\n",
        "prev_uf_3m.show(30, truncate=False)\n"
      ],
      "execution_count": 6,
      "outputs": [
        {
          "output_type": "stream",
          "name": "stdout",
          "text": [
            "🧮 Colunas selecionadas (6): ['uf', 'v1013', 'b0011', 'b0012', 'b0013', 'b0014']\n"
          ]
        },
        {
          "output_type": "stream",
          "name": "stderr",
          "text": [
            "/usr/local/lib/python3.12/dist-packages/pyspark/sql/column.py:460: FutureWarning: A column as 'key' in getItem is deprecated as of Spark 3.0, and will not be supported in the future release. Use `column[key]` or `column.key` syntax instead.\n",
            "  warnings.warn(\n"
          ]
        },
        {
          "output_type": "stream",
          "name": "stdout",
          "text": [
            "✅ Limpeza + mapeamentos concluídos.\n",
            "👀 Amostra após mapeamentos (5 linhas):\n",
            "+---+-----+-----+-----+-----+-----+-----+-----+------------+--------------------+\n",
            "|uf |v1013|b0011|b0012|b0013|b0014|FEBRE|TOSSE|DOR_GARGANTA|DIFICULDADE_RESPIRAR|\n",
            "+---+-----+-----+-----+-----+-----+-----+-----+------------+--------------------+\n",
            "|11 |5    |1    |1    |2    |2    |Sim  |Sim  |Não         |Não                 |\n",
            "|11 |5    |1    |1    |2    |2    |Sim  |Sim  |Não         |Não                 |\n",
            "|11 |5    |2    |2    |2    |2    |Não  |Não  |Não         |Não                 |\n",
            "|11 |5    |2    |2    |2    |2    |Não  |Não  |Não         |Não                 |\n",
            "|11 |5    |2    |2    |2    |2    |Não  |Não  |Não         |Não                 |\n",
            "+---+-----+-----+-----+-----+-----+-----+-----+------------+--------------------+\n",
            "\n",
            "🗓️ Meses detectados: [5, 7, 10]\n",
            "🎯 Meses desejados: [] | Meses usados: [5, 7, 10]\n",
            "📈 Contagem por MES (usados):\n",
            "+-----+------+\n",
            "|v1013|  qtde|\n",
            "+-----+------+\n",
            "|    5|349306|\n",
            "|    7|384166|\n",
            "|   10|380461|\n",
            "+-----+------+\n",
            "\n",
            "🔢 Total: 1113933\n",
            "📊 Prevalência por UF:\n",
            "+---+--------------------+--------------------+--------------------+-------------------------+\n",
            "|uf |prop_FEBRE          |prop_TOSSE          |prop_DOR_GARGANTA   |prop_DIFICULDADE_RESPIRAR|\n",
            "+---+--------------------+--------------------+--------------------+-------------------------+\n",
            "|26 |0.01809858405195358 |0.020994357500266157|0.015500904929202598|0.007707867560949644     |\n",
            "|29 |0.011624710364057652|0.018183246278914503|0.012037073400620508|0.00677453560067549      |\n",
            "|22 |0.012500512316078528|0.01364810033198082 |0.013361203328005247|0.0043854256321980405    |\n",
            "|50 |0.009281107440616642|0.0154947302186566  |0.012663205914739658|0.005151801164071102     |\n",
            "|32 |0.012570398738454606|0.023766614102275287|0.01612975895471953 |0.009078621311106105     |\n",
            "|43 |0.00686167178079657 |0.023483878926186915|0.017115630734121784|0.008727429725687323     |\n",
            "|31 |0.006963238053849041|0.021018114295873417|0.011733796890741362|0.007338561523418209     |\n",
            "|25 |0.019056036768605268|0.025950150256319603|0.02054092275057451 |0.0067880502032879615    |\n",
            "|27 |0.01943080878915381 |0.021359280037400653|0.015515427769985974|0.007538569424964937     |\n",
            "|51 |0.014122252333634448|0.019572417946401688|0.01592893706714845 |0.007407407407407408     |\n",
            "|52 |0.013209283813030175|0.020622403542376676|0.015672031642578174|0.007338491007238986     |\n",
            "|17 |0.013135241981763694|0.01734362048077536 |0.016514697443091246|0.007970413823885737     |\n",
            "|41 |0.006696617784182419|0.016004068831058742|0.012223446638976012|0.005509875392048826     |\n",
            "|28 |0.014533098620379088|0.021492610635771892|0.0176444098743194  |0.005772301142178736     |\n",
            "|33 |0.011555110363824991|0.01995015442588154 |0.013677720936333607|0.006856747635912663     |\n",
            "|12 |0.03153988868274583 |0.031963954412934   |0.030161675059634244|0.01722767028889478      |\n",
            "|11 |0.017018594390167036|0.02225023636936653 |0.020296249606051055|0.011534825086668768     |\n",
            "|35 |0.00892901384443101 |0.020831062265254146|0.015112925763326627|0.009246137532579505     |\n",
            "|13 |0.03957073443562764 |0.04341594714580348 |0.03687908553850456 |0.018317195092110324     |\n",
            "|14 |0.032206864625355464|0.028172739898154883|0.027048475629918658|0.012829839296342835     |\n",
            "|21 |0.029732132933199956|0.028602126634804194|0.026119817717016783|0.009058575080582417     |\n",
            "|15 |0.04142327650111193 |0.03899184581171238 |0.03644180874722016 |0.018947368421052633     |\n",
            "|42 |0.007560057211243761|0.0173239148836802  |0.012989287486499898|0.006027613181937593     |\n",
            "|23 |0.023404298173175693|0.026586638200165158|0.02418981248363512 |0.009083768051723095     |\n",
            "|16 |0.059059561128526644|0.05642633228840126 |0.046144200626959245|0.030094043887147336     |\n",
            "|53 |0.015289590927501012|0.024200081004455243|0.019846091535034426|0.01068246253543945      |\n",
            "|24 |0.01624246483590087 |0.01808439383791025 |0.017665773610180843|0.006195579370395178     |\n",
            "+---+--------------------+--------------------+--------------------+-------------------------+\n",
            "\n"
          ]
        }
      ]
    },
    {
      "cell_type": "code",
      "source": [],
      "metadata": {
        "id": "VRgvoEfUpWmV"
      },
      "execution_count": null,
      "outputs": []
    },
    {
      "cell_type": "code",
      "source": [
        "# ================================================\n",
        "# MEU TRECHO – Medalhão + padrões + Postgres (SILVER/GOLD)\n",
        "# Requisitos prévios: spark, jdbc_url, jdbc_properties, df_clean (do bloco anterior)\n",
        "# Usa df_3m/prev_uf_3mes se já existirem; senão constrói a partir do df_clean\n",
        "# ================================================\n",
        "from pyspark.sql.functions import (\n",
        "    col, upper, trim, when, lit, current_timestamp,\n",
        "    avg as f_avg, count as f_count\n",
        ")\n",
        "from pyspark.sql.types import IntegerType, StringType\n",
        "\n",
        "# ---- Pré-checagem de requisitos ----\n",
        "try:\n",
        "    spark\n",
        "    jdbc_url\n",
        "    jdbc_properties\n",
        "    df_clean\n",
        "except NameError as e:\n",
        "    raise RuntimeError(\n",
        "        \"Pré-requisito ausente: garanta que o bloco da colega rodou (spark/jdbc_url/jdbc_properties/df_clean).\"\n",
        "    ) from e\n",
        "\n",
        "# ---- helpers ----\n",
        "def exists(df, c):\n",
        "    return c in df.columns\n",
        "\n",
        "def cast_if_exists(df, colname, dtype, normalize_str=False):\n",
        "    if exists(df, colname):\n",
        "        expr = col(colname).cast(dtype)\n",
        "        if normalize_str:\n",
        "            expr = upper(trim(expr))\n",
        "        return df.withColumn(colname, expr)\n",
        "    return df\n",
        "\n",
        "# ------------------------------------------------\n",
        "# 1) SILVER: padronização (≤20 questionamentos) + derivadas legíveis\n",
        "# ------------------------------------------------\n",
        "quest_cols = [c for c in [\n",
        "    \"uf\",\"v2007\",\"v2009\",\"v2010\",\"v1013\",      # demográficas + mês\n",
        "    \"b0011\",\"b0012\",\"b0013\",\"b0014\",          # sintomas (códigos)\n",
        "    \"b002\",\"c001\",\"d0013\"                     # teste, comportamento, econômico\n",
        "] if exists(df_clean, c)]\n",
        "\n",
        "pretty_cols = [c for c in [\n",
        "    \"FEBRE\",\"TOSSE\",\"DOR_GARGANTA\",\"DIFICULDADE_RESPIRAR\",\n",
        "    \"FICOU_EM_CASA\",\"TESTE_COVID\",\"PERDA_RENDA\"\n",
        "] if exists(df_clean, c)]\n",
        "\n",
        "silver = df_clean.select(*(quest_cols + pretty_cols))\n",
        "\n",
        "# renomear p/ padrão (mais legível)\n",
        "renames = {\n",
        "    \"uf\":\"UF\", \"v2007\":\"SEXO\", \"v2009\":\"IDADE\", \"v2010\":\"RACA_COR\", \"v1013\":\"MES\",\n",
        "    \"b0011\":\"B0011\",\"b0012\":\"B0012\",\"b0013\":\"B0013\",\"b0014\":\"B0014\",\n",
        "    \"b002\":\"B002\",\"c001\":\"C001\",\"d0013\":\"D0013\"\n",
        "}\n",
        "for a,b in renames.items():\n",
        "    if exists(silver, a) and a != b:\n",
        "        silver = silver.withColumnRenamed(a,b)\n",
        "\n",
        "# tipos/normalização\n",
        "silver = cast_if_exists(silver, \"UF\", StringType(), normalize_str=True)\n",
        "silver = cast_if_exists(silver, \"SEXO\", IntegerType())\n",
        "silver = cast_if_exists(silver, \"IDADE\", IntegerType())\n",
        "silver = cast_if_exists(silver, \"RACA_COR\", IntegerType())\n",
        "silver = cast_if_exists(silver, \"MES\", IntegerType())\n",
        "\n",
        "# metadados\n",
        "silver = silver.withColumn(\"ORIGEM\", lit(\"postgres_rds.QUESTIONARIO\"))\n",
        "silver = silver.withColumn(\"CARGA_TS\", current_timestamp())\n",
        "\n",
        "print(\"✅ SILVER pronto (amostra):\")\n",
        "silver.limit(5).show(truncate=False)\n",
        "print(\"📚 Colunas do SILVER:\", silver.columns)\n",
        "\n",
        "# ------------------------------------------------\n",
        "# 2) GOLD – fato (3 meses) + agregado por UF\n",
        "#    • usa df_3m/prev_uf_3m se já existirem\n",
        "#    • senão, constrói a partir do SILVER\n",
        "# ------------------------------------------------\n",
        "# fato (linhas dos 3 meses)\n",
        "try:\n",
        "    df3m = df_3m\n",
        "except NameError:\n",
        "    if not exists(silver, \"MES\"):\n",
        "        # tentar renomear se veio como v1013\n",
        "        if exists(silver, \"v1013\"):\n",
        "            silver = silver.withColumnRenamed(\"v1013\", \"MES\").withColumn(\"MES\", col(\"MES\").cast(IntegerType()))\n",
        "        else:\n",
        "            raise RuntimeError(\"Não encontrei 'MES'/'v1013' para montar o GOLD fato.\")\n",
        "    # top-3 meses mais frequentes\n",
        "    meses_usados = [r[\"MES\"] for r in silver.groupBy(\"MES\").agg(f_count(\"*\").alias(\"qt\")) \\\n",
        "                                   .orderBy(col(\"qt\").desc()).limit(3).collect()]\n",
        "    meses_usados = [m for m in meses_usados if m is not None]\n",
        "    df3m = silver.filter(col(\"MES\").isin(meses_usados))\n",
        "\n",
        "# normalização garantida em df3m\n",
        "if exists(df3m, \"v1013\") and not exists(df3m, \"MES\"):\n",
        "    df3m = df3m.withColumnRenamed(\"v1013\", \"MES\")\n",
        "df3m = cast_if_exists(df3m, \"MES\", IntegerType())\n",
        "if exists(df3m, \"uf\") and not exists(df3m, \"UF\"):\n",
        "    df3m = df3m.withColumnRenamed(\"uf\",\"UF\")\n",
        "df3m = cast_if_exists(df3m, \"UF\", StringType(), normalize_str=True)\n",
        "\n",
        "print(\"\\n🎯 GOLD fato – contagem por MES:\")\n",
        "if exists(df3m, \"MES\"):\n",
        "    df3m.groupBy(\"MES\").agg(f_count(\"*\").alias(\"qtde\")).orderBy(\"MES\").show()\n",
        "else:\n",
        "    print(\"  (sem coluna MES)\")\n",
        "\n",
        "# agregado por UF\n",
        "try:\n",
        "    prev_uf = prev_uf_3m\n",
        "    if exists(prev_uf, \"uf\") and not exists(prev_uf, \"UF\"):\n",
        "        prev_uf = prev_uf.withColumnRenamed(\"uf\",\"UF\")\n",
        "except NameError:\n",
        "    symptom_cols = [c for c in [\"FEBRE\",\"TOSSE\",\"DOR_GARGANTA\",\"DIFICULDADE_RESPIRAR\"] if exists(df3m, c)]\n",
        "    agg_exprs = [f_avg(when(col(c)==\"Sim\",1).otherwise(0)).alias(f\"prop_{c}\") for c in symptom_cols] \\\n",
        "                if symptom_cols else [f_count(\"*\").alias(\"qtde\")]\n",
        "    prev_uf = df3m.groupBy(\"UF\").agg(*agg_exprs)\n",
        "\n",
        "print(\"📊 GOLD agregado por UF (amostra):\")\n",
        "prev_uf.show(20, truncate=False)\n",
        "\n",
        "# ------------------------------------------------\n",
        "# 3) Escrita no Postgres (overwrite)\n",
        "# ------------------------------------------------\n",
        "t_silver = \"public.pnad_silver\"\n",
        "t_fato   = \"public.pnad_curado_3meses\"\n",
        "t_agg    = \"public.prev_sintomas_uf_3meses\"\n",
        "\n",
        "for (name, dframe) in [(t_silver, silver), (t_fato, df3m), (t_agg, prev_uf)]:\n",
        "    (\n",
        "        dframe.write\n",
        "        .format(\"jdbc\")\n",
        "        .option(\"url\", jdbc_url)\n",
        "        .option(\"dbtable\", name)\n",
        "        .options(**jdbc_properties)\n",
        "        .mode(\"overwrite\")\n",
        "        .save()\n",
        "    )\n",
        "    print(f\"✅ Gravado no Postgres: {name}\")\n",
        "\n",
        "# ------------------------------------------------\n",
        "# 4) Checks rápidos + análises pra apresentação\n",
        "# ------------------------------------------------\n",
        "print(\"\\n🧪 Nulos por coluna (SILVER):\")\n",
        "nulls = silver.select([f_count(when(col(c).isNull(), c)).alias(c) for c in silver.columns])\n",
        "nulls.show(truncate=False)\n",
        "\n",
        "if exists(df3m, \"FEBRE\"):\n",
        "    print(\"\\n🔥 Top 10 UFs por prevalência de FEBRE:\")\n",
        "    top_febre = df3m.groupBy(\"UF\") \\\n",
        "                    .agg(f_avg(when(col(\"FEBRE\")==\"Sim\",1).otherwise(0)).alias(\"prop_febre\")) \\\n",
        "                    .orderBy(col(\"prop_febre\").desc())\n",
        "    top_febre.show(10, truncate=False)\n",
        "\n",
        "if exists(df3m, \"FICOU_EM_CASA\"):\n",
        "    print(\"\\n🏠 Distribuição do isolamento (FICOU_EM_CASA):\")\n",
        "    dist_iso = df3m.groupBy(\"FICOU_EM_CASA\").agg(f_count(\"*\").alias(\"qtd\")).orderBy(col(\"qtd\").desc())\n",
        "    dist_iso.show(truncate=False)\n",
        "\n",
        "if exists(df3m, \"PERDA_RENDA\"):\n",
        "    print(\"\\n💸 Proporção de PERDA_RENDA:\")\n",
        "    pr = df3m.agg(f_avg(when(col(\"PERDA_RENDA\")==\"Sim\",1).otherwise(0)).alias(\"prop_perda_renda\"))\n",
        "    pr.show(truncate=False)\n",
        "\n",
        "print(\"\\n✅ FIM — Medalhão concluído (SILVER/GOLD) e tabelas gravadas no Postgres.\")\n"
      ],
      "metadata": {
        "id": "ZdoRX6t2pWoi",
        "outputId": "f2585a7a-ac6c-4ccd-c331-71a1569e43df",
        "colab": {
          "base_uri": "https://localhost:8080/"
        }
      },
      "execution_count": 8,
      "outputs": [
        {
          "output_type": "stream",
          "name": "stdout",
          "text": [
            "✅ SILVER pronto (amostra):\n",
            "+---+---+-----+-----+-----+-----+-----+-----+------------+--------------------+-------------------------+--------------------------+\n",
            "|UF |MES|B0011|B0012|B0013|B0014|FEBRE|TOSSE|DOR_GARGANTA|DIFICULDADE_RESPIRAR|ORIGEM                   |CARGA_TS                  |\n",
            "+---+---+-----+-----+-----+-----+-----+-----+------------+--------------------+-------------------------+--------------------------+\n",
            "|11 |5  |1    |1    |2    |2    |Sim  |Sim  |Não         |Não                 |postgres_rds.QUESTIONARIO|2025-09-30 22:14:13.308078|\n",
            "|11 |5  |1    |1    |2    |2    |Sim  |Sim  |Não         |Não                 |postgres_rds.QUESTIONARIO|2025-09-30 22:14:13.308078|\n",
            "|11 |5  |2    |2    |2    |2    |Não  |Não  |Não         |Não                 |postgres_rds.QUESTIONARIO|2025-09-30 22:14:13.308078|\n",
            "|11 |5  |2    |2    |2    |2    |Não  |Não  |Não         |Não                 |postgres_rds.QUESTIONARIO|2025-09-30 22:14:13.308078|\n",
            "|11 |5  |2    |2    |2    |2    |Não  |Não  |Não         |Não                 |postgres_rds.QUESTIONARIO|2025-09-30 22:14:13.308078|\n",
            "+---+---+-----+-----+-----+-----+-----+-----+------------+--------------------+-------------------------+--------------------------+\n",
            "\n",
            "📚 Colunas do SILVER: ['UF', 'MES', 'B0011', 'B0012', 'B0013', 'B0014', 'FEBRE', 'TOSSE', 'DOR_GARGANTA', 'DIFICULDADE_RESPIRAR', 'ORIGEM', 'CARGA_TS']\n",
            "\n",
            "🎯 GOLD fato – contagem por MES:\n",
            "+---+------+\n",
            "|MES|  qtde|\n",
            "+---+------+\n",
            "|  5|349306|\n",
            "|  7|384166|\n",
            "| 10|380461|\n",
            "+---+------+\n",
            "\n",
            "📊 GOLD agregado por UF (amostra):\n",
            "+---+--------------------+--------------------+--------------------+-------------------------+\n",
            "|UF |prop_FEBRE          |prop_TOSSE          |prop_DOR_GARGANTA   |prop_DIFICULDADE_RESPIRAR|\n",
            "+---+--------------------+--------------------+--------------------+-------------------------+\n",
            "|26 |0.01809858405195358 |0.020994357500266157|0.015500904929202598|0.007707867560949644     |\n",
            "|29 |0.011624710364057652|0.018183246278914503|0.012037073400620508|0.00677453560067549      |\n",
            "|22 |0.012500512316078528|0.01364810033198082 |0.013361203328005247|0.0043854256321980405    |\n",
            "|50 |0.009281107440616642|0.0154947302186566  |0.012663205914739658|0.005151801164071102     |\n",
            "|32 |0.012570398738454606|0.023766614102275287|0.01612975895471953 |0.009078621311106105     |\n",
            "|43 |0.00686167178079657 |0.023483878926186915|0.017115630734121784|0.008727429725687323     |\n",
            "|31 |0.006963238053849041|0.021018114295873417|0.011733796890741362|0.007338561523418209     |\n",
            "|25 |0.019056036768605268|0.025950150256319603|0.02054092275057451 |0.0067880502032879615    |\n",
            "|27 |0.01943080878915381 |0.021359280037400653|0.015515427769985974|0.007538569424964937     |\n",
            "|51 |0.014122252333634448|0.019572417946401688|0.01592893706714845 |0.007407407407407408     |\n",
            "|52 |0.013209283813030175|0.020622403542376676|0.015672031642578174|0.007338491007238986     |\n",
            "|17 |0.013135241981763694|0.01734362048077536 |0.016514697443091246|0.007970413823885737     |\n",
            "|41 |0.006696617784182419|0.016004068831058742|0.012223446638976012|0.005509875392048826     |\n",
            "|28 |0.014533098620379088|0.021492610635771892|0.0176444098743194  |0.005772301142178736     |\n",
            "|33 |0.011555110363824991|0.01995015442588154 |0.013677720936333607|0.006856747635912663     |\n",
            "|12 |0.03153988868274583 |0.031963954412934   |0.030161675059634244|0.01722767028889478      |\n",
            "|11 |0.017018594390167036|0.02225023636936653 |0.020296249606051055|0.011534825086668768     |\n",
            "|35 |0.00892901384443101 |0.020831062265254146|0.015112925763326627|0.009246137532579505     |\n",
            "|13 |0.03957073443562764 |0.04341594714580348 |0.03687908553850456 |0.018317195092110324     |\n",
            "|14 |0.032206864625355464|0.028172739898154883|0.027048475629918658|0.012829839296342835     |\n",
            "+---+--------------------+--------------------+--------------------+-------------------------+\n",
            "only showing top 20 rows\n",
            "\n",
            "✅ Gravado no Postgres: public.pnad_silver\n",
            "✅ Gravado no Postgres: public.pnad_curado_3meses\n",
            "✅ Gravado no Postgres: public.prev_sintomas_uf_3meses\n",
            "\n",
            "🧪 Nulos por coluna (SILVER):\n",
            "+---+---+-----+-----+-----+-----+-----+-----+------------+--------------------+------+--------+\n",
            "|UF |MES|B0011|B0012|B0013|B0014|FEBRE|TOSSE|DOR_GARGANTA|DIFICULDADE_RESPIRAR|ORIGEM|CARGA_TS|\n",
            "+---+---+-----+-----+-----+-----+-----+-----+------------+--------------------+------+--------+\n",
            "|0  |0  |0    |0    |0    |0    |1110 |1114 |1218        |1160                |0     |0       |\n",
            "+---+---+-----+-----+-----+-----+-----+-----+------------+--------------------+------+--------+\n",
            "\n",
            "\n",
            "🔥 Top 10 UFs por prevalência de FEBRE:\n",
            "+---+--------------------+\n",
            "|UF |prop_febre          |\n",
            "+---+--------------------+\n",
            "|16 |0.059059561128526644|\n",
            "|15 |0.04142327650111193 |\n",
            "|13 |0.03957073443562764 |\n",
            "|14 |0.032206864625355464|\n",
            "|12 |0.03153988868274583 |\n",
            "|21 |0.029732132933199956|\n",
            "|23 |0.023404298173175693|\n",
            "|27 |0.01943080878915381 |\n",
            "|25 |0.019056036768605268|\n",
            "|26 |0.01809858405195358 |\n",
            "+---+--------------------+\n",
            "only showing top 10 rows\n",
            "\n",
            "\n",
            "✅ FIM — Medalhão concluído (SILVER/GOLD) e tabelas gravadas no Postgres.\n"
          ]
        }
      ]
    },
    {
      "cell_type": "code",
      "source": [],
      "metadata": {
        "id": "fxUp7-qOpWuW"
      },
      "execution_count": null,
      "outputs": []
    },
    {
      "cell_type": "code",
      "source": [],
      "metadata": {
        "id": "J5u3WGI9pWx0"
      },
      "execution_count": null,
      "outputs": []
    }
  ],
  "metadata": {
    "colab": {
      "provenance": [],
      "toc_visible": true,
      "include_colab_link": true
    },
    "kernelspec": {
      "display_name": "Python 3",
      "name": "python3"
    },
    "language_info": {
      "name": "python"
    }
  },
  "nbformat": 4,
  "nbformat_minor": 0
}